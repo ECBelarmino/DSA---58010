{
  "nbformat": 4,
  "nbformat_minor": 0,
  "metadata": {
    "colab": {
      "name": "Practice Lab Exam.ipynb",
      "provenance": [],
      "authorship_tag": "ABX9TyMJZvk493ltcVKawYLImjg9",
      "include_colab_link": true
    },
    "kernelspec": {
      "name": "python3",
      "display_name": "Python 3"
    },
    "language_info": {
      "name": "python"
    }
  },
  "cells": [
    {
      "cell_type": "markdown",
      "metadata": {
        "id": "view-in-github",
        "colab_type": "text"
      },
      "source": [
        "<a href=\"https://colab.research.google.com/github/ECBelarmino/DSA---58010/blob/main/Practice_Lab_Exam.ipynb\" target=\"_parent\"><img src=\"https://colab.research.google.com/assets/colab-badge.svg\" alt=\"Open In Colab\"/></a>"
      ]
    },
    {
      "cell_type": "markdown",
      "source": [
        "# Practical Lab Exam"
      ],
      "metadata": {
        "id": "3CdMgMnDbIPx"
      }
    },
    {
      "cell_type": "code",
      "source": [
        "#if all elements are given at once\n",
        "group = [26, 49, 98, 87, 62, 75]\n",
        "even = [x for x in group if x % 2 == 0]\n",
        "print (\"Even scores: \", even)\n",
        "\n",
        "even_total = sum (even)\n",
        "print (\"Total value of even scores: \", even_total)"
      ],
      "metadata": {
        "colab": {
          "base_uri": "https://localhost:8080/"
        },
        "id": "KCktoF5FbPVZ",
        "outputId": "900f5676-cc8d-4ebf-8600-2fabb7c3020b"
      },
      "execution_count": 2,
      "outputs": [
        {
          "output_type": "stream",
          "name": "stdout",
          "text": [
            "Even scores:  [26, 98, 62]\n",
            "Total value of even scores:  186\n"
          ]
        }
      ]
    },
    {
      "cell_type": "code",
      "source": [
        "#if each element is inputted one by one\n",
        "group = []\n",
        "sum = 0\n",
        "nums = int (input(\"Enter the total number of values desired: \"))\n",
        "for x in range (1, nums + 1):\n",
        "  value = int (input(\"Input a number: \"))\n",
        "  group.append (value)\n",
        "\n",
        "for y in range (nums):\n",
        "  if (group[y] % 2 == 0):\n",
        "    sum = sum + group [y]\n",
        "\n",
        "print (\"Total value of even scores: \", sum)"
      ],
      "metadata": {
        "colab": {
          "base_uri": "https://localhost:8080/"
        },
        "id": "f2pSzvUKcBDR",
        "outputId": "1111be86-a12a-4e13-fb50-b17ac2af9269"
      },
      "execution_count": 8,
      "outputs": [
        {
          "output_type": "stream",
          "name": "stdout",
          "text": [
            "Enter the total number of values desired: 6\n",
            "Input a number: 26\n",
            "Input a number: 49\n",
            "Input a number: 98\n",
            "Input a number: 87\n",
            "Input a number: 62\n",
            "Input a number: 75\n",
            "Total value of even scores:  186\n"
          ]
        }
      ]
    }
  ]
}