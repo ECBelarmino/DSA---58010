{
  "nbformat": 4,
  "nbformat_minor": 0,
  "metadata": {
    "colab": {
      "name": "polymorphism and inheritance.ipynb",
      "provenance": [],
      "authorship_tag": "ABX9TyOMqxnMrdiIl4UmfRAmcgSj",
      "include_colab_link": true
    },
    "kernelspec": {
      "name": "python3",
      "display_name": "Python 3"
    },
    "language_info": {
      "name": "python"
    }
  },
  "cells": [
    {
      "cell_type": "markdown",
      "metadata": {
        "id": "view-in-github",
        "colab_type": "text"
      },
      "source": [
        "<a href=\"https://colab.research.google.com/github/ECBelarmino/DSA---58010/blob/main/polymorphism_and_inheritance.ipynb\" target=\"_parent\"><img src=\"https://colab.research.google.com/assets/colab-badge.svg\" alt=\"Open In Colab\"/></a>"
      ]
    },
    {
      "cell_type": "code",
      "execution_count": 4,
      "metadata": {
        "colab": {
          "base_uri": "https://localhost:8080/"
        },
        "id": "K7ArCxZ2JiQd",
        "outputId": "e478a2b7-40ec-4ec0-d6a4-4964a75da66b"
      },
      "outputs": [
        {
          "output_type": "stream",
          "name": "stdout",
          "text": [
            "16\n",
            "21\n",
            "16\n",
            "20\n"
          ]
        }
      ],
      "source": [
        "class Shape:             #parent\n",
        "  def Area(self):\n",
        "    pass\n",
        "  def Perimeter(self):\n",
        "    pass\n",
        "\n",
        "class Rectangle:          #child\n",
        "  def __init__(self, side1, side2):\n",
        "    self.side1 = side1\n",
        "    self.side2 = side2\n",
        "  def Area(self):\n",
        "    print(self.side1*self.side2)\n",
        "  def Perimeter(self):\n",
        "    print(2*(self.side1+self.side2))\n",
        "\n",
        "class Square(Shape):          #child\n",
        "  def __init__(self, side):\n",
        "    self.side = side\n",
        "  def Area(self):\n",
        "    print(self.side**2)\n",
        "  def Perimeter(self):\n",
        "    print(self.side*4)\n",
        "\n",
        "square = Square(4)\n",
        "square.Area()\n",
        "\n",
        "rect = Rectangle(7,3)\n",
        "rect.Area()\n",
        "\n",
        "square.Perimeter()\n",
        "rect.Perimeter()"
      ]
    }
  ]
}