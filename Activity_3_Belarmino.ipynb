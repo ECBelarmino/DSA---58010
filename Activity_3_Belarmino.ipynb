{
  "nbformat": 4,
  "nbformat_minor": 0,
  "metadata": {
    "colab": {
      "provenance": [],
      "authorship_tag": "ABX9TyP6tW0nNxoCbyeFrRIhxRZ0",
      "include_colab_link": true
    },
    "kernelspec": {
      "name": "python3",
      "display_name": "Python 3"
    },
    "language_info": {
      "name": "python"
    }
  },
  "cells": [
    {
      "cell_type": "markdown",
      "metadata": {
        "id": "view-in-github",
        "colab_type": "text"
      },
      "source": [
        "<a href=\"https://colab.research.google.com/github/ECBelarmino/DSA---58010/blob/main/Activity_3_Belarmino.ipynb\" target=\"_parent\"><img src=\"https://colab.research.google.com/assets/colab-badge.svg\" alt=\"Open In Colab\"/></a>"
      ]
    },
    {
      "cell_type": "code",
      "execution_count": 9,
      "metadata": {
        "colab": {
          "base_uri": "https://localhost:8080/"
        },
        "id": "QJrpxTjWN8Fg",
        "outputId": "5c34bb9e-0ab1-4f38-c094-0ea3095079a5"
      },
      "outputs": [
        {
          "output_type": "stream",
          "name": "stdout",
          "text": [
            "Pushed element:  1\n",
            "Pushed element:  2\n",
            "Pushed element:  3\n",
            "Pushed element:  4\n",
            "Pushed element:  5\n",
            "The elements in the stack are: ['4', '5']\n",
            "We have 2 elements in the stack.\n"
          ]
        }
      ],
      "source": [
        "#Stack implementation in Python\n",
        "\n",
        "#Creating a stack\n",
        "def create_stack():\n",
        "  stack = []\n",
        "  return stack\n",
        "\n",
        "#Creating an empty stack\n",
        "def empty(stack):\n",
        "  return len(stack) == 0\n",
        "\n",
        "#Adding items into the stack \n",
        "def push(stack, item):\n",
        "  stack.append(item)\n",
        "  print (\"Pushed element: \", item)\n",
        "\n",
        "#Removing an element from the stack \n",
        "def pop(stack):\n",
        "  if(empty(stack)):\n",
        "    return (\"The stack is empty\")\n",
        "  return stack.pop()\n",
        "\n",
        "stack = create_stack()\n",
        "push(stack, str(1))\n",
        "stack.pop()\n",
        "push(stack, str(2))\n",
        "stack.pop()\n",
        "push(stack, str(3))\n",
        "stack.pop()\n",
        "push(stack, str(4))\n",
        "push(stack, str(5))\n",
        "\n",
        "print(\"The elements in the stack are:\", str(stack))\n",
        "print (\"We have\", str(len(stack)), \"elements in the stack.\")"
      ]
    }
  ]
}