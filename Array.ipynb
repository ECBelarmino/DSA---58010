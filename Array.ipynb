{
  "nbformat": 4,
  "nbformat_minor": 0,
  "metadata": {
    "colab": {
      "name": "Array.ipynb",
      "provenance": [],
      "authorship_tag": "ABX9TyPFYZeRdtleN53WiXAKcydd",
      "include_colab_link": true
    },
    "kernelspec": {
      "name": "python3",
      "display_name": "Python 3"
    },
    "language_info": {
      "name": "python"
    }
  },
  "cells": [
    {
      "cell_type": "markdown",
      "metadata": {
        "id": "view-in-github",
        "colab_type": "text"
      },
      "source": [
        "<a href=\"https://colab.research.google.com/github/ECBelarmino/DSA---58010/blob/main/Array.ipynb\" target=\"_parent\"><img src=\"https://colab.research.google.com/assets/colab-badge.svg\" alt=\"Open In Colab\"/></a>"
      ]
    },
    {
      "cell_type": "code",
      "execution_count": 1,
      "metadata": {
        "colab": {
          "base_uri": "https://localhost:8080/"
        },
        "id": "S8fhl8JossnO",
        "outputId": "bbca7f85-c9aa-4c0a-fae4-e36abfc766e0"
      },
      "outputs": [
        {
          "output_type": "stream",
          "name": "stdout",
          "text": [
            "[1, 4, 3]\n"
          ]
        }
      ],
      "source": [
        "#array of number elements\n",
        "\n",
        "love = [1,4,3]\n",
        "print (love)"
      ]
    },
    {
      "cell_type": "code",
      "source": [
        "#loop\n",
        "\n",
        "colors = [\"red\", \"blue\",\"yellow\"]\n",
        "for x in colors:\n",
        "  print (x)"
      ],
      "metadata": {
        "colab": {
          "base_uri": "https://localhost:8080/"
        },
        "id": "Zc1UQfx_tCJ9",
        "outputId": "d5e51ec7-31f4-4794-821a-d0f521c2b4d1"
      },
      "execution_count": 2,
      "outputs": [
        {
          "output_type": "stream",
          "name": "stdout",
          "text": [
            "red\n",
            "blue\n",
            "yellow\n"
          ]
        }
      ]
    },
    {
      "cell_type": "code",
      "source": [
        "#loop break\n",
        "\n",
        "colors = [\"red\",\"blue\",\"yellow\"]\n",
        "for x in colors:\n",
        "  print (x)\n",
        "  if x == \"blue\":\n",
        "    break"
      ],
      "metadata": {
        "colab": {
          "base_uri": "https://localhost:8080/"
        },
        "id": "yLhEf2DttWCd",
        "outputId": "d2630507-8523-445a-d0f6-a6d113cdc30d"
      },
      "execution_count": 3,
      "outputs": [
        {
          "output_type": "stream",
          "name": "stdout",
          "text": [
            "red\n",
            "blue\n"
          ]
        }
      ]
    },
    {
      "cell_type": "code",
      "source": [
        "#assign\n",
        "\n",
        "colors = [\"red\",\"blue\",\"yellow\"]\n",
        "x = colors [2]\n",
        "y = colors [0]\n",
        "print (x)\n",
        "print (y)"
      ],
      "metadata": {
        "colab": {
          "base_uri": "https://localhost:8080/"
        },
        "id": "AZX9HHS1tozt",
        "outputId": "2ef6fa58-7a96-4ded-8b81-a8071f2aa1a6"
      },
      "execution_count": 4,
      "outputs": [
        {
          "output_type": "stream",
          "name": "stdout",
          "text": [
            "yellow\n",
            "red\n"
          ]
        }
      ]
    },
    {
      "cell_type": "code",
      "source": [
        "#modify\n",
        "\n",
        "colors = [\"red\",\"blue\",\"yellow\"]\n",
        "colors [2] = \"green\"\n",
        "print (colors)"
      ],
      "metadata": {
        "colab": {
          "base_uri": "https://localhost:8080/"
        },
        "id": "wZGR1ZS1uBn2",
        "outputId": "6090ba88-080c-42a1-d686-29eb033729e7"
      },
      "execution_count": 5,
      "outputs": [
        {
          "output_type": "stream",
          "name": "stdout",
          "text": [
            "['red', 'blue', 'green']\n"
          ]
        }
      ]
    },
    {
      "cell_type": "code",
      "source": [
        "#insert\n",
        "\n",
        "colors = [\"red\",\"blue\",\"yellow\"]\n",
        "colors.append (\"green\")\n",
        "print (colors)"
      ],
      "metadata": {
        "colab": {
          "base_uri": "https://localhost:8080/"
        },
        "id": "JdHpKhJBuZz9",
        "outputId": "048901d2-ceb4-497e-e7d4-c32399e8d502"
      },
      "execution_count": 6,
      "outputs": [
        {
          "output_type": "stream",
          "name": "stdout",
          "text": [
            "['red', 'blue', 'yellow', 'green']\n"
          ]
        }
      ]
    },
    {
      "cell_type": "code",
      "source": [
        "#remove\n",
        "\n",
        "colors = [\"red\",\"blue\",\"yellow\"]\n",
        "colors.pop (0)\n",
        "print (colors)"
      ],
      "metadata": {
        "colab": {
          "base_uri": "https://localhost:8080/"
        },
        "id": "0_8lLHvzuuim",
        "outputId": "bcffe7bd-eee7-40b1-dc8f-d3f19dd5f994"
      },
      "execution_count": 7,
      "outputs": [
        {
          "output_type": "stream",
          "name": "stdout",
          "text": [
            "['blue', 'yellow']\n"
          ]
        }
      ]
    },
    {
      "cell_type": "code",
      "source": [
        "#length\n",
        "\n",
        "colors = [\"red\",\"blue\",\"yellow\"]\n",
        "x = len (colors)\n",
        "print (colors)"
      ],
      "metadata": {
        "colab": {
          "base_uri": "https://localhost:8080/"
        },
        "id": "-4TP0NQ6u795",
        "outputId": "54de50ed-863a-4759-df22-b9394e6e6c0f"
      },
      "execution_count": 8,
      "outputs": [
        {
          "output_type": "stream",
          "name": "stdout",
          "text": [
            "['red', 'blue', 'yellow']\n"
          ]
        }
      ]
    },
    {
      "cell_type": "code",
      "source": [
        "#import\n",
        "\n",
        "import numpy as np\n",
        "nums = np.array ([[2,4], [6,8]])\n",
        "print (nums)"
      ],
      "metadata": {
        "colab": {
          "base_uri": "https://localhost:8080/"
        },
        "id": "99HQ8EQFvLHS",
        "outputId": "9f2092de-4018-4d2a-d42a-36cc0f9c6a8c"
      },
      "execution_count": 11,
      "outputs": [
        {
          "output_type": "stream",
          "name": "stdout",
          "text": [
            "[[2 4]\n",
            " [6 8]]\n"
          ]
        }
      ]
    }
  ]
}