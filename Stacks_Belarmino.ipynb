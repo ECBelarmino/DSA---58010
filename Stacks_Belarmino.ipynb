{
  "nbformat": 4,
  "nbformat_minor": 0,
  "metadata": {
    "colab": {
      "provenance": [],
      "authorship_tag": "ABX9TyMN1aRhN3rE9fWpiD9z2zIf",
      "include_colab_link": true
    },
    "kernelspec": {
      "name": "python3",
      "display_name": "Python 3"
    },
    "language_info": {
      "name": "python"
    }
  },
  "cells": [
    {
      "cell_type": "markdown",
      "metadata": {
        "id": "view-in-github",
        "colab_type": "text"
      },
      "source": [
        "<a href=\"https://colab.research.google.com/github/ECBelarmino/DSA---58010/blob/main/Stacks_Belarmino.ipynb\" target=\"_parent\"><img src=\"https://colab.research.google.com/assets/colab-badge.svg\" alt=\"Open In Colab\"/></a>"
      ]
    },
    {
      "cell_type": "code",
      "execution_count": 1,
      "metadata": {
        "colab": {
          "base_uri": "https://localhost:8080/"
        },
        "id": "-aRrilXvhDBZ",
        "outputId": "cbb5a4c8-0329-41a1-a3f1-5d81e75f202d"
      },
      "outputs": [
        {
          "output_type": "stream",
          "name": "stdout",
          "text": [
            "Mon\n",
            "Tue\n",
            "Wed\n"
          ]
        }
      ],
      "source": [
        "class Node:\n",
        "  def __init__(self, data):\n",
        "    self.data = data\n",
        "    self.next = None\n",
        "\n",
        "class LinkedList:\n",
        "  def __init__(self):\n",
        "    self.head = None\n",
        "\n",
        "  def push_back(self, newElement):\n",
        "    newNode = Node(newElement)\n",
        "    if(self.head == None):\n",
        "      self.head = newNode\n",
        "      return\n",
        "    else:\n",
        "      temp = self.head\n",
        "      while(temp.next != None):\n",
        "        temp = temp.next\n",
        "      temp.next = newNode\n",
        "\n",
        "  def pop_back(self):\n",
        "    if(self.head != None):\n",
        "      if(self.head.next == None):\n",
        "        self.head = None\n",
        "      else:\n",
        "        temp = self.head\n",
        "        while(temp.next.next != None):\n",
        "          temp = temp.next\n",
        "        lastNode = temp.next\n",
        "        temp.next = None\n",
        "        lastNode = None\n",
        "\n",
        "  def printList(self): \n",
        "    temp = self.head\n",
        "    while(temp):\n",
        "      print(temp.data)\n",
        "      temp = temp.next\n",
        "                 \n",
        "MyList = LinkedList()\n",
        "\n",
        "MyList.push_back(\"Mon\")\n",
        "MyList.push_back(\"Tue\")\n",
        "MyList.push_back(\"Wed\")\n",
        "MyList.push_back(\"Thu\")\n",
        "\n",
        "MyList.pop_back()\n",
        "MyList.printList()"
      ]
    }
  ]
}