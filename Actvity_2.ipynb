{
  "nbformat": 4,
  "nbformat_minor": 0,
  "metadata": {
    "colab": {
      "provenance": [],
      "authorship_tag": "ABX9TyNZ4M7qfwvw2j2K6Ttbowxu",
      "include_colab_link": true
    },
    "kernelspec": {
      "name": "python3",
      "display_name": "Python 3"
    },
    "language_info": {
      "name": "python"
    }
  },
  "cells": [
    {
      "cell_type": "markdown",
      "metadata": {
        "id": "view-in-github",
        "colab_type": "text"
      },
      "source": [
        "<a href=\"https://colab.research.google.com/github/ECBelarmino/DSA---58010/blob/main/Actvity_2.ipynb\" target=\"_parent\"><img src=\"https://colab.research.google.com/assets/colab-badge.svg\" alt=\"Open In Colab\"/></a>"
      ]
    },
    {
      "cell_type": "markdown",
      "source": [
        "Instruction: \n",
        "\n",
        "Write a Python program to create a singly linked list of prime numbers less than 20. By iterating through the list, display all the prime numbers, the head, and the tail of the list."
      ],
      "metadata": {
        "id": "BJ3iBqaeEJma"
      }
    },
    {
      "cell_type": "code",
      "source": [
        "#Identify prime numbers less than 20\n",
        "\n",
        "min = 1\n",
        "max = 20\n",
        "\n",
        "print(\"Prime numbers less than\", max, \"are:\")\n",
        "\n",
        "for num in range(min, max + 1):\n",
        "   if num > 1:\n",
        "       for i in range(2, num):\n",
        "           if (num % i) == 0:\n",
        "               break\n",
        "       else:\n",
        "           print(num)"
      ],
      "metadata": {
        "colab": {
          "base_uri": "https://localhost:8080/"
        },
        "id": "XpfvgF01LsGr",
        "outputId": "328f21cd-30c0-4e6d-ccd0-b946680c0f82"
      },
      "execution_count": 11,
      "outputs": [
        {
          "output_type": "stream",
          "name": "stdout",
          "text": [
            "Prime numbers less than 20 are:\n",
            "2\n",
            "3\n",
            "5\n",
            "7\n",
            "11\n",
            "13\n",
            "17\n",
            "19\n"
          ]
        }
      ]
    },
    {
      "cell_type": "code",
      "source": [
        "class Node:\n",
        "  def __init__(self,data):\n",
        "    self.data = data    \n",
        "    self.next = None    \n",
        "\n",
        "class LinkedList:\n",
        "  def __init(self):\n",
        "    self.head = None   \n",
        "\n",
        "  def printList (self):\n",
        "    temp = self.head\n",
        "    while(temp != None):\n",
        "      print(temp.data)\n",
        "      temp = temp.next\n",
        "      \n",
        "\n",
        "list = LinkedList()   \n",
        "list.head = Node(2)\n",
        "a = Node(3)\n",
        "b = Node(5)\n",
        "c = Node(7)\n",
        "d = Node(11)\n",
        "e = Node(13)\n",
        "f = Node(17)\n",
        "g = Node(19)\n",
        "\n",
        "list.head.next = a\n",
        "a.next = b\n",
        "b.next = c\n",
        "c.next = d\n",
        "d.next = e\n",
        "e.next = f\n",
        "f.next = g\n",
        "\n",
        "list.printList()\n",
        "\n",
        "print (\"\\nhead:\", list.head.data)\n",
        "print (\"tail:\", g.data)"
      ],
      "metadata": {
        "colab": {
          "base_uri": "https://localhost:8080/"
        },
        "id": "ILXcFMy9Xt9s",
        "outputId": "ac546b7d-ce7e-4673-95ee-2cff9de3136a"
      },
      "execution_count": 16,
      "outputs": [
        {
          "output_type": "stream",
          "name": "stdout",
          "text": [
            "2\n",
            "3\n",
            "5\n",
            "7\n",
            "11\n",
            "13\n",
            "17\n",
            "19\n",
            "\n",
            "head: 2\n",
            "tail: 19\n"
          ]
        }
      ]
    }
  ]
}