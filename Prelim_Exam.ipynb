{
  "nbformat": 4,
  "nbformat_minor": 0,
  "metadata": {
    "colab": {
      "provenance": [],
      "authorship_tag": "ABX9TyPYyt3L72GBzgRa1OtL5kNO",
      "include_colab_link": true
    },
    "kernelspec": {
      "name": "python3",
      "display_name": "Python 3"
    },
    "language_info": {
      "name": "python"
    }
  },
  "cells": [
    {
      "cell_type": "markdown",
      "metadata": {
        "id": "view-in-github",
        "colab_type": "text"
      },
      "source": [
        "<a href=\"https://colab.research.google.com/github/ECBelarmino/DSA---58010/blob/main/Prelim_Exam.ipynb\" target=\"_parent\"><img src=\"https://colab.research.google.com/assets/colab-badge.svg\" alt=\"Open In Colab\"/></a>"
      ]
    },
    {
      "cell_type": "code",
      "source": [
        "#Create a program that creates the array list below and counts the number of even numbers\n",
        "\n",
        "A = [1, 2, 3, 4, 5, 6, 7, 8, 9, 10]\n",
        "B = 0\n",
        "D = []\n",
        "for C in A:\n",
        "  if C != 1:\n",
        "    if C % 2 == 0:\n",
        "      B += 1\n",
        "\n",
        "for C in A:\n",
        "  if C % 2 == 0:\n",
        "    D.append (C)\n",
        "\n",
        "print (\"The number of even numbers: \", B)\n",
        "print (\"The identified even numbers: \", D)\n",
        "\n"
      ],
      "metadata": {
        "colab": {
          "base_uri": "https://localhost:8080/"
        },
        "id": "s-rv1LUVTa5V",
        "outputId": "ecfe9948-16c0-48eb-e785-6f29cb7ad03a"
      },
      "execution_count": 8,
      "outputs": [
        {
          "output_type": "stream",
          "name": "stdout",
          "text": [
            "The number of even numbers:  5\n",
            "The identified even numbers:  [2, 4, 6, 8, 10]\n"
          ]
        }
      ]
    }
  ]
}