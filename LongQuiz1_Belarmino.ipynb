{
  "nbformat": 4,
  "nbformat_minor": 0,
  "metadata": {
    "colab": {
      "provenance": [],
      "authorship_tag": "ABX9TyN74sBXnODlTNOZJv2mm8CJ",
      "include_colab_link": true
    },
    "kernelspec": {
      "name": "python3",
      "display_name": "Python 3"
    },
    "language_info": {
      "name": "python"
    }
  },
  "cells": [
    {
      "cell_type": "markdown",
      "metadata": {
        "id": "view-in-github",
        "colab_type": "text"
      },
      "source": [
        "<a href=\"https://colab.research.google.com/github/ECBelarmino/DSA---58010/blob/main/LongQuiz1_Belarmino.ipynb\" target=\"_parent\"><img src=\"https://colab.research.google.com/assets/colab-badge.svg\" alt=\"Open In Colab\"/></a>"
      ]
    },
    {
      "cell_type": "code",
      "execution_count": 2,
      "metadata": {
        "colab": {
          "base_uri": "https://localhost:8080/"
        },
        "id": "TuOs5_XlLpfq",
        "outputId": "d38a2644-d6e2-49a5-f661-59387f5c185c"
      },
      "outputs": [
        {
          "output_type": "stream",
          "name": "stdout",
          "text": [
            "Full name:  ['Erica', 'Christine', 'Belarmino']\n",
            "Full name in reverse:  ['Belarmino', 'Christine', 'Erica']\n"
          ]
        }
      ],
      "source": [
        "#Array - Full name (words)\n",
        "\n",
        "name = [\"Erica\", \"Christine\", \"Belarmino\"]\n",
        "print (\"Full name: \", name)\n",
        "\n",
        "rname = name [:: -1]\n",
        "print (\"Full name in reverse: \", rname)"
      ]
    },
    {
      "cell_type": "code",
      "source": [
        "#Array - Full name (letters)\n",
        "\n",
        "fname = [\"E\", \"R\", \"I\", \"C\", \"A\"]\n",
        "fname2 = [\"C\", \"H\", \"R\", \"I\", \"S\", \"T\", \"I\", \"N\", \"E\"]\n",
        "lname = [\"B\", \"E\", \"L\", \"A\", \"R\", \"M\", \"I\", \"N\", \"O\"]\n",
        "\n",
        "rfname = fname [:: -1]\n",
        "rfname2 = fname2 [:: -1]\n",
        "rlname = lname [:: -1]\n",
        "print (\"Full name in reverse: \", rfname, rfname2, rlname)"
      ],
      "metadata": {
        "colab": {
          "base_uri": "https://localhost:8080/"
        },
        "id": "N0g3Iu8ROecl",
        "outputId": "910a02c6-d5b5-4d73-f349-76d23216a486"
      },
      "execution_count": 5,
      "outputs": [
        {
          "output_type": "stream",
          "name": "stdout",
          "text": [
            "Full name in reverse:  ['A', 'C', 'I', 'R', 'E'] ['E', 'N', 'I', 'T', 'S', 'I', 'R', 'H', 'C'] ['O', 'N', 'I', 'M', 'R', 'A', 'L', 'E', 'B']\n"
          ]
        }
      ]
    }
  ]
}